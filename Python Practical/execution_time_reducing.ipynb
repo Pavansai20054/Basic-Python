{
 "cells": [
  {
   "cell_type": "markdown",
   "metadata": {},
   "source": [
    "### Big O notation:\n",
    "* Big O notation is a mathematical concept used to describe the time complexity or space complexity of an algorithm, specifically how the execution time or memory usage grows as the size of the input increases. It provides a way to measure the efficiency of an algorithm, especially in terms of scalability.\n",
    "* Big O notation describes the growth of an algorithm's runtime based on the input size.\n",
    "* To determine the time complexity, focus on loops, recursive calls, and key operations in your code.\n",
    "* For simple loops, count iterations.\n",
    "* For nested loops, multiply their sizes.\n",
    "* For recursive functions, analyze recurrence relations."
   ]
  },
  {
   "cell_type": "markdown",
   "metadata": {},
   "source": [
    "### **Python Programming Language Information**\n",
    "- Python was developed by Guido Van Rossum a Dutch Software programmer.\n",
    "- He started to develop Python in late 1980's.\n",
    "- The first version of Python was **Python 0.9.0** developed on February 1991.\n",
    "\n",
    "### Program to check execution time of any python code\n",
    "suggested modules are timeit, time\n",
    "1. In timeit module we have method named **timeit.default_time()** to check the execution time\n",
    "2. In time module we have 2 methods namely **time.time() & time.perf_counter()** these two methods are used differently \n",
    "    a. **time.time()** method is used for getting the current time or timestamps.\n",
    "    b. **time.perf_counter()** method is used for benchmarking or measuring execution time accurately."
   ]
  },
  {
   "cell_type": "code",
   "execution_count": 1,
   "metadata": {},
   "outputs": [
    {
     "name": "stdout",
     "output_type": "stream",
     "text": [
      "11\n",
      "Time taken to run the code is 0.0002053000\n"
     ]
    }
   ],
   "source": [
    "import time\n",
    "\n",
    "start = time.perf_counter() #storing the starting time of the code \n",
    "\n",
    "# program starts from here\n",
    "print(5+6)\n",
    "\n",
    "end = time.perf_counter()  #storing the ending time of the code\n",
    "\n",
    "print(f\"Time taken to run the code is {end-start:.10f}\")"
   ]
  },
  {
   "cell_type": "code",
   "execution_count": 2,
   "metadata": {},
   "outputs": [],
   "source": [
    "def add(a,b):\n",
    "    print(a+b)"
   ]
  },
  {
   "cell_type": "code",
   "execution_count": 3,
   "metadata": {},
   "outputs": [
    {
     "name": "stdout",
     "output_type": "stream",
     "text": [
      "17\n",
      "Time taken for exectution of the code is 0.0001251000\n"
     ]
    }
   ],
   "source": [
    "import timeit\n",
    "\n",
    "begin = timeit.default_timer()\n",
    "\n",
    "add(8,9)\n",
    "\n",
    "end = timeit.default_timer()\n",
    "\n",
    "print(f\"Time taken for exectution of the code is {end-begin:.10f}\")"
   ]
  },
  {
   "cell_type": "markdown",
   "metadata": {},
   "source": [
    "#### Trying to reduce the execution time by creating Thread\n",
    "\n",
    "Here we are using threading module\n",
    "* threading module need a function as a target so that the thread starts execution"
   ]
  },
  {
   "cell_type": "code",
   "execution_count": 4,
   "metadata": {},
   "outputs": [
    {
     "name": "stdout",
     "output_type": "stream",
     "text": [
      "11Thread Executed\n",
      "\n",
      "Time taken for execution of the code is 0.0017640000\n"
     ]
    }
   ],
   "source": [
    "import time\n",
    "import threading as thrd\n",
    "\n",
    "def target_fun():\n",
    "    begin = time.perf_counter() #starting of the code execution\n",
    "    add(2, 9)\n",
    "    end = time.perf_counter() #ending of the code execution\n",
    "    print(f\"Time taken for execution of the code is {end-begin:.10f}\")\n",
    "\n",
    "thread = thrd.Thread(target = target_fun)\n",
    "\n",
    "thread.start()\n",
    "\n",
    "print(\"Thread Executed\")"
   ]
  },
  {
   "cell_type": "code",
   "execution_count": 5,
   "metadata": {},
   "outputs": [
    {
     "name": "stdout",
     "output_type": "stream",
     "text": [
      "14\n",
      "Time taken to run the code is 0.0009920000\n"
     ]
    }
   ],
   "source": [
    "import time\n",
    "\n",
    "start = time.perf_counter() \n",
    "\n",
    "print(5+9)\n",
    "\n",
    "end = time.perf_counter()\n",
    "\n",
    "print(f\"Time taken to run the code is {end-start:.10f}\")\n"
   ]
  },
  {
   "cell_type": "markdown",
   "metadata": {},
   "source": [
    "## Operators\n",
    "- Sequence of operators is : **PEMUDAS**\n",
    "  - P: Parentheses ()\n",
    "  - E: Exponentiation (**)\n",
    "  - U: Unary Plus or Unary Minus (+5)=5 (-7) = -7\n",
    "  - M: Multiplication(*)\n",
    "  - D: Division (/)\n",
    "  - A: Addition (+)\n",
    "  - S: Subtraction (-)"
   ]
  },
  {
   "cell_type": "code",
   "execution_count": 6,
   "metadata": {},
   "outputs": [
    {
     "name": "stdout",
     "output_type": "stream",
     "text": [
      "Addition of 5,9,178877 is: 179991\n"
     ]
    }
   ],
   "source": [
    "#Adding numbers in integer\n",
    "add = 5 + 9 + 179977\n",
    "print(f\"Addition of 5,9,178877 is: {add}\")"
   ]
  },
  {
   "cell_type": "code",
   "execution_count": 7,
   "metadata": {},
   "outputs": [
    {
     "data": {
      "text/plain": [
       "int"
      ]
     },
     "execution_count": 7,
     "metadata": {},
     "output_type": "execute_result"
    }
   ],
   "source": [
    "type(add)"
   ]
  },
  {
   "cell_type": "code",
   "execution_count": 8,
   "metadata": {},
   "outputs": [
    {
     "name": "stdout",
     "output_type": "stream",
     "text": [
      "Addition of 5,9,70 is: {89}\n",
      "Addition of 10,5,18 is: 33\n"
     ]
    }
   ],
   "source": [
    "#Adding numbers in set\n",
    "add_set = {5 + 9 + 70 + 5}\n",
    "print(f\"Addition of 5,9,70 is: {add_set}\")\n",
    "print(f\"Addition of 10,5,18 is: {10 + 5 + 18}\")"
   ]
  },
  {
   "cell_type": "code",
   "execution_count": 9,
   "metadata": {},
   "outputs": [
    {
     "name": "stdout",
     "output_type": "stream",
     "text": [
      "One way of adding numbers in set format: <class 'set'>\n",
      "Another way of adding numbers in set format: <class 'set'>\n"
     ]
    }
   ],
   "source": [
    "print(f\"One way of adding numbers in set format:\",type(add_set))\n",
    "print(f\"Another way of adding numbers in set format:\",type({10 + 5 + 18 + 5}))"
   ]
  },
  {
   "cell_type": "markdown",
   "metadata": {},
   "source": [
    "#### Same for all the numbers \n",
    "- If you see open and close curly brackets {} that with number then you must think that is not a Dictionary it is set"
   ]
  },
  {
   "cell_type": "code",
   "execution_count": 10,
   "metadata": {},
   "outputs": [
    {
     "name": "stdout",
     "output_type": "stream",
     "text": [
      "Subtraction of 5,9,134455 is: -134459\n"
     ]
    }
   ],
   "source": [
    "#Substracting numbers\n",
    "print(f\"Subtraction of 5,9,134455 is: {5 - 9 - 134455}\")"
   ]
  },
  {
   "cell_type": "code",
   "execution_count": 11,
   "metadata": {},
   "outputs": [
    {
     "name": "stdout",
     "output_type": "stream",
     "text": [
      "Multiplication of 60,48,10 is: 28800\n"
     ]
    }
   ],
   "source": [
    "#Multiplying numbers\n",
    "print(f\"Multiplication of 60,48,10 is: {60 * 48 * 10}\")"
   ]
  },
  {
   "cell_type": "code",
   "execution_count": 12,
   "metadata": {},
   "outputs": [
    {
     "name": "stdout",
     "output_type": "stream",
     "text": [
      "Multiplication of 60,48,14 is: 40320\n",
      "The time taken to execute the code is 0.0000798000\n"
     ]
    }
   ],
   "source": [
    "#Multiplying numbers\n",
    "import time \n",
    "\n",
    "start = time.perf_counter()\n",
    "print(f\"Multiplication of 60,48,14 is: {60 * 48 * 14}\")\n",
    "end = time.perf_counter()\n",
    "\n",
    "print(f\"The time taken to execute the code is {end-start:.10f}\")"
   ]
  },
  {
   "cell_type": "code",
   "execution_count": 17,
   "metadata": {},
   "outputs": [
    {
     "name": "stdout",
     "output_type": "stream",
     "text": [
      "Division of 60,48 is: 1.25000\n"
     ]
    }
   ],
   "source": [
    "#dividing numbers\n",
    "print(f\"Division of 60,48 is: {60 / 48 :.5f}\")"
   ]
  },
  {
   "cell_type": "code",
   "execution_count": 7,
   "metadata": {},
   "outputs": [
    {
     "name": "stdout",
     "output_type": "stream",
     "text": [
      "Addition and Multiplication: 330\n"
     ]
    },
    {
     "data": {
      "text/plain": [
       "int"
      ]
     },
     "execution_count": 7,
     "metadata": {},
     "output_type": "execute_result"
    }
   ],
   "source": [
    "a = (10*6-5) *6\n",
    "\n",
    "print(f\"Addition and Multiplication: {a}\")\n",
    "\n",
    "type(a)\n"
   ]
  },
  {
   "cell_type": "code",
   "execution_count": 16,
   "metadata": {},
   "outputs": [
    {
     "name": "stdout",
     "output_type": "stream",
     "text": [
      "0\n"
     ]
    },
    {
     "data": {
      "text/plain": [
       "int"
      ]
     },
     "execution_count": 16,
     "metadata": {},
     "output_type": "execute_result"
    }
   ],
   "source": [
    "#Modulus of numbers\n",
    "a = 2 % 1\n",
    "print(a)\n",
    "\n",
    "type(a)"
   ]
  },
  {
   "cell_type": "code",
   "execution_count": 26,
   "metadata": {},
   "outputs": [
    {
     "name": "stdout",
     "output_type": "stream",
     "text": [
      "2 to the power of 5 is: 32\n"
     ]
    },
    {
     "data": {
      "text/plain": [
       "int"
      ]
     },
     "execution_count": 26,
     "metadata": {},
     "output_type": "execute_result"
    }
   ],
   "source": [
    "#Exponent of numbers\n",
    "a = 2 ** 5\n",
    "print(f'2 to the power of 5 is:',a)\n",
    "\n",
    "type(a)\n",
    "\n"
   ]
  },
  {
   "cell_type": "code",
   "execution_count": 30,
   "metadata": {},
   "outputs": [
    {
     "name": "stdout",
     "output_type": "stream",
     "text": [
      "Floor division of 10 by 3 is: 5\n"
     ]
    },
    {
     "data": {
      "text/plain": [
       "int"
      ]
     },
     "execution_count": 30,
     "metadata": {},
     "output_type": "execute_result"
    }
   ],
   "source": [
    "#Floor division of numbers\n",
    "a = 29// 5\n",
    "print(f'Floor division of 10 by 3 is:',a)\n",
    "\n",
    "type(a)"
   ]
  },
  {
   "cell_type": "code",
   "execution_count": 53,
   "metadata": {},
   "outputs": [
    {
     "name": "stdout",
     "output_type": "stream",
     "text": [
      "Unary Minus of 5 is: -5\n"
     ]
    }
   ],
   "source": [
    "# Unary Plus and Unary Minus\n",
    "a = -5\n",
    "\n",
    "if a > 0:\n",
    "    print(f\"Unary Plus of 5 is: {a}\")\n",
    "else:\n",
    "    print(f\"Unary Minus of 5 is: {a}\")"
   ]
  }
 ],
 "metadata": {
  "kernelspec": {
   "display_name": "Python 3",
   "language": "python",
   "name": "python3"
  },
  "language_info": {
   "codemirror_mode": {
    "name": "ipython",
    "version": 3
   },
   "file_extension": ".py",
   "mimetype": "text/x-python",
   "name": "python",
   "nbconvert_exporter": "python",
   "pygments_lexer": "ipython3",
   "version": "3.11.8"
  }
 },
 "nbformat": 4,
 "nbformat_minor": 2
}
